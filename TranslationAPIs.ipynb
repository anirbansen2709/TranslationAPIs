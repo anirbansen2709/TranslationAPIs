{
  "nbformat": 4,
  "nbformat_minor": 0,
  "metadata": {
    "colab": {
      "name": "TranslationAPIs.ipynb",
      "provenance": [],
      "authorship_tag": "ABX9TyMqowKSzqQ9cPlU4BfQ+DaO",
      "include_colab_link": true
    },
    "kernelspec": {
      "name": "python3",
      "display_name": "Python 3"
    }
  },
  "cells": [
    {
      "cell_type": "markdown",
      "metadata": {
        "id": "view-in-github",
        "colab_type": "text"
      },
      "source": [
        "<a href=\"https://colab.research.google.com/github/anirbansen3027/TranslationAPIs/blob/main/TranslationAPIs.ipynb\" target=\"_parent\"><img src=\"https://colab.research.google.com/assets/colab-badge.svg\" alt=\"Open In Colab\"/></a>"
      ]
    },
    {
      "cell_type": "markdown",
      "metadata": {
        "id": "VGUOuIqNKVTo"
      },
      "source": [
        "Text Translation APIs which can be used on the fly\r\n",
        "\r\n",
        "\r\n",
        "1.   google_trans_new\r\n",
        "2.   textblob\r\n",
        "\r\n"
      ]
    },
    {
      "cell_type": "code",
      "metadata": {
        "colab": {
          "base_uri": "https://localhost:8080/"
        },
        "id": "5ikqoE9WDIXb",
        "outputId": "6d2944b7-5ad1-467b-fab6-a860e12445ff"
      },
      "source": [
        "! pip install google_trans_new"
      ],
      "execution_count": 22,
      "outputs": [
        {
          "output_type": "stream",
          "text": [
            "Collecting google_trans_new\n",
            "  Downloading https://files.pythonhosted.org/packages/f9/7b/9f136106dc5824dc98185c97991d3cd9b53e70a197154dd49f7b899128f6/google_trans_new-1.1.9-py3-none-any.whl\n",
            "Installing collected packages: google-trans-new\n",
            "Successfully installed google-trans-new-1.1.9\n"
          ],
          "name": "stdout"
        }
      ]
    },
    {
      "cell_type": "code",
      "metadata": {
        "colab": {
          "base_uri": "https://localhost:8080/"
        },
        "id": "7YukUct-GpJf",
        "outputId": "eb150ba1-08b3-479f-c53c-7cb58faf0ffd"
      },
      "source": [
        "from google_trans_new import LANGUAGES\r\n",
        "len(LANGUAGES)"
      ],
      "execution_count": 33,
      "outputs": [
        {
          "output_type": "execute_result",
          "data": {
            "text/plain": [
              "108"
            ]
          },
          "metadata": {
            "tags": []
          },
          "execution_count": 33
        }
      ]
    },
    {
      "cell_type": "code",
      "metadata": {
        "id": "q3YXfUO3A3tE"
      },
      "source": [
        "from textblob import TextBlob\r\n",
        "from google_trans_new import google_translator\r\n",
        "translator = google_translator()"
      ],
      "execution_count": 24,
      "outputs": []
    },
    {
      "cell_type": "code",
      "metadata": {
        "colab": {
          "base_uri": "https://localhost:8080/"
        },
        "id": "96-CNUIlBcYh",
        "outputId": "9bc266f7-4d20-4821-c7ff-1bc952fb96d0"
      },
      "source": [
        "#Hindi Sentence Detection\r\n",
        "# Detect the blob’s language using the Google Translate API.\r\n",
        "# Requires an internet connection.\r\n",
        "hi_blob = TextBlob(u'तुम्हारा नाम क्या है')\r\n",
        "print(hi_blob.detect_language())\r\n",
        "print(hi_blob.translate(to='en'))"
      ],
      "execution_count": 26,
      "outputs": [
        {
          "output_type": "stream",
          "text": [
            "hi\n",
            "What is your name\n"
          ],
          "name": "stdout"
        }
      ]
    },
    {
      "cell_type": "code",
      "metadata": {
        "colab": {
          "base_uri": "https://localhost:8080/"
        },
        "id": "S0mbS54dB-u_",
        "outputId": "539e3fea-cf43-497a-a820-201b2e54709e"
      },
      "source": [
        "#German Detection\r\n",
        "de_blob = TextBlob(u\"Maschinelles Lernen ist ein interessantes Thema zum Lernen\")\r\n",
        "print(de_blob.detect_language())\r\n",
        "print(de_blob.translate(to='en'))"
      ],
      "execution_count": 27,
      "outputs": [
        {
          "output_type": "stream",
          "text": [
            "de\n",
            "Machine learning is an interesting topic to learn\n"
          ],
          "name": "stdout"
        }
      ]
    },
    {
      "cell_type": "code",
      "metadata": {
        "colab": {
          "base_uri": "https://localhost:8080/"
        },
        "id": "0ZmwQR3ECPRy",
        "outputId": "27d1684d-f873-4074-9703-5174fa1333a7"
      },
      "source": [
        "print(translator.translate(u'तुम्हारा नाम क्या है'))\r\n",
        "print(translator.translate(u'التعلم الآلي هو موضوع مثير للاهتمام للتعلم'))"
      ],
      "execution_count": 29,
      "outputs": [
        {
          "output_type": "stream",
          "text": [
            "What is your name \n",
            "Machine learning is an interesting topic to learn \n"
          ],
          "name": "stdout"
        }
      ]
    },
    {
      "cell_type": "code",
      "metadata": {
        "colab": {
          "base_uri": "https://localhost:8080/"
        },
        "id": "pczPqR7iFREb",
        "outputId": "a8d2f043-f4f2-43a5-c700-46d315ac6cde"
      },
      "source": [
        "translator.detect(\"Les livres sont les meilleurs amis de l'homme\")"
      ],
      "execution_count": 30,
      "outputs": [
        {
          "output_type": "execute_result",
          "data": {
            "text/plain": [
              "['fr', 'french']"
            ]
          },
          "metadata": {
            "tags": []
          },
          "execution_count": 30
        }
      ]
    },
    {
      "cell_type": "code",
      "metadata": {
        "id": "9xv-wm09FUWX"
      },
      "source": [
        ""
      ],
      "execution_count": null,
      "outputs": []
    },
    {
      "cell_type": "code",
      "metadata": {
        "id": "xGvHgkr5GnQW"
      },
      "source": [
        ""
      ],
      "execution_count": null,
      "outputs": []
    }
  ]
}